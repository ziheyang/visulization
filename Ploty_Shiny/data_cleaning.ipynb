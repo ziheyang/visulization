{
 "cells": [
  {
   "cell_type": "code",
   "execution_count": 171,
   "metadata": {},
   "outputs": [],
   "source": [
    "import pandas as pd\n",
    "pd.set_option('display.max_columns', None)\n",
    "df = pd.read_excel(\"happiness2019.xls\", sheetname='Table2.1')"
   ]
  },
  {
   "cell_type": "code",
   "execution_count": 174,
   "metadata": {},
   "outputs": [
    {
     "name": "stdout",
     "output_type": "stream",
     "text": [
      "<class 'pandas.core.frame.DataFrame'>\n",
      "RangeIndex: 1704 entries, 0 to 1703\n",
      "Data columns (total 26 columns):\n",
      "Country name                                                1704 non-null object\n",
      "Year                                                        1704 non-null int64\n",
      "Life Ladder                                                 1704 non-null float64\n",
      "Log GDP per capita                                          1676 non-null float64\n",
      "Social support                                              1691 non-null float64\n",
      "Healthy life expectancy at birth                            1676 non-null float64\n",
      "Freedom to make life choices                                1675 non-null float64\n",
      "Generosity                                                  1622 non-null float64\n",
      "Perceptions of corruption                                   1608 non-null float64\n",
      "Positive affect                                             1685 non-null float64\n",
      "Negative affect                                             1691 non-null float64\n",
      "Confidence in national government                           1530 non-null float64\n",
      "Democratic Quality                                          1558 non-null float64\n",
      "Delivery Quality                                            1559 non-null float64\n",
      "Standard deviation of ladder by country-year                1704 non-null float64\n",
      "Standard deviation/Mean of ladder by country-year           1704 non-null float64\n",
      "GINI index (World Bank estimate)                            643 non-null float64\n",
      "GINI index (World Bank estimate), average 2000-16           1502 non-null float64\n",
      "gini of household income reported in Gallup, by wp5-year    1335 non-null float64\n",
      "Most people can be trusted, Gallup                          180 non-null float64\n",
      "Most people can be trusted, WVS round 1981-1984             125 non-null float64\n",
      "Most people can be trusted, WVS round 1989-1993             220 non-null float64\n",
      "Most people can be trusted, WVS round 1994-1998             618 non-null float64\n",
      "Most people can be trusted, WVS round 1999-2004             491 non-null float64\n",
      "Most people can be trusted, WVS round 2005-2009             630 non-null float64\n",
      "Most people can be trusted, WVS round 2010-2014             671 non-null float64\n",
      "dtypes: float64(24), int64(1), object(1)\n",
      "memory usage: 346.2+ KB\n"
     ]
    }
   ],
   "source": [
    "df.info()"
   ]
  },
  {
   "cell_type": "code",
   "execution_count": 175,
   "metadata": {},
   "outputs": [],
   "source": [
    "# only take useful columns\n",
    "cols = ['Country name', 'Year', 'Life Ladder', 'Log GDP per capita',\n",
    "       'Social support', 'Healthy life expectancy at birth',\n",
    "       'Freedom to make life choices', 'Generosity',\n",
    "       'Perceptions of corruption', 'Positive affect', 'Negative affect',\n",
    "       'Confidence in national government', 'Democratic Quality',\n",
    "       'GINI index (World Bank estimate), average 2000-16',\n",
    "       'gini of household income reported in Gallup, by wp5-year']\n",
    "\n",
    "df = df[cols]"
   ]
  },
  {
   "cell_type": "code",
   "execution_count": 177,
   "metadata": {},
   "outputs": [],
   "source": [
    "# change column names\n",
    "df.columns = ['Country', 'Year', 'Happiness Score', 'GDP', 'Social Support', \n",
    "              'Health', 'Freedom', 'Generosity', 'Corruption', 'Positive Affect', \n",
    "              'Negative Affect', 'Confidence in Government', 'Democratic Quality', 'GINI WB', \"GINI Index\"]"
   ]
  },
  {
   "cell_type": "code",
   "execution_count": 178,
   "metadata": {},
   "outputs": [],
   "source": [
    "# fill missing value of \"gini of household income\" from GINI index (World Bank estimate)\n",
    "df.loc[df['GINI Index'].isnull(),'GINI Index'] = df['GINI WB']"
   ]
  },
  {
   "cell_type": "code",
   "execution_count": 179,
   "metadata": {},
   "outputs": [],
   "source": [
    "# fill missing values from the previous year of the same country\n",
    "# fill missing values from the next year of the same country\n",
    "df = df.sort_values(by=['Country', 'Year'])\n",
    "df = df.groupby(['Country'], sort=False).apply(lambda x: x.ffill().bfill())"
   ]
  },
  {
   "cell_type": "code",
   "execution_count": 182,
   "metadata": {},
   "outputs": [
    {
     "name": "stdout",
     "output_type": "stream",
     "text": [
      "<class 'pandas.core.frame.DataFrame'>\n",
      "Int64Index: 1704 entries, 0 to 1703\n",
      "Data columns (total 15 columns):\n",
      "Country                     1704 non-null object\n",
      "Year                        1704 non-null int64\n",
      "Happiness Score             1704 non-null float64\n",
      "GDP                         1691 non-null float64\n",
      "Social Support              1703 non-null float64\n",
      "Health                      1692 non-null float64\n",
      "Freedom                     1704 non-null float64\n",
      "Generosity                  1690 non-null float64\n",
      "Corruption                  1680 non-null float64\n",
      "Positive Affect             1703 non-null float64\n",
      "Negative Affect             1704 non-null float64\n",
      "Confidence in Government    1624 non-null float64\n",
      "Democratic Quality          1694 non-null float64\n",
      "GINI WB                     1502 non-null float64\n",
      "GINI Index                  1702 non-null float64\n",
      "dtypes: float64(13), int64(1), object(1)\n",
      "memory usage: 213.0+ KB\n"
     ]
    }
   ],
   "source": [
    "df.info()"
   ]
  },
  {
   "cell_type": "code",
   "execution_count": 187,
   "metadata": {},
   "outputs": [],
   "source": [
    "# drop entries with any null values\n",
    "df = df.drop(['GINI WB'], axis = 1)\n",
    "df = df.dropna(how='any')\n",
    "df.to_csv(\"happiness_full.csv\", index = False)"
   ]
  }
 ],
 "metadata": {
  "kernelspec": {
   "display_name": "Python 3",
   "language": "python",
   "name": "python3"
  },
  "language_info": {
   "codemirror_mode": {
    "name": "ipython",
    "version": 3
   },
   "file_extension": ".py",
   "mimetype": "text/x-python",
   "name": "python",
   "nbconvert_exporter": "python",
   "pygments_lexer": "ipython3",
   "version": "3.7.3"
  }
 },
 "nbformat": 4,
 "nbformat_minor": 2
}
